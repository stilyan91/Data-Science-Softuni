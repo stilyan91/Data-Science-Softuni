{
 "cells": [
  {
   "cell_type": "code",
   "execution_count": 6,
   "id": "27aecaad-c89b-43cc-8afe-b1677ac94ec9",
   "metadata": {
    "ExecuteTime": {
     "end_time": "2024-08-11T12:11:22.080708Z",
     "start_time": "2024-08-11T12:11:21.251500Z"
    }
   },
   "outputs": [],
   "source": [
    "%matplotlib inline"
   ]
  },
  {
   "cell_type": "markdown",
   "id": "99b16a50-fe6e-4699-b685-4038f691a4e7",
   "metadata": {},
   "source": [
    "# Data Visualization Exploatory Data  Analysisabs"
   ]
  },
  {
   "cell_type": "markdown",
   "id": "e765741d-0b7b-4013-a5db-777733d2efbe",
   "metadata": {},
   "source": [
    "## Live Demo"
   ]
  },
  {
   "cell_type": "code",
   "execution_count": 7,
   "id": "1aef08d5-0ac8-4a15-8887-886f9600fbd5",
   "metadata": {
    "ExecuteTime": {
     "end_time": "2024-08-11T12:11:54.391458Z",
     "start_time": "2024-08-11T12:11:54.386676Z"
    }
   },
   "outputs": [],
   "source": [
    "import pandas as pd \n",
    "import numpy as np \n",
    "import matplotlib.pyplot as plt "
   ]
  },
  {
   "cell_type": "code",
   "execution_count": 8,
   "id": "d2abe3c5-615a-459e-8264-ce88e80c28c9",
   "metadata": {
    "ExecuteTime": {
     "end_time": "2024-08-11T12:11:56.162783Z",
     "start_time": "2024-08-11T12:11:56.151910Z"
    }
   },
   "outputs": [
    {
     "data": {
      "text/plain": [
       "['Solarize_Light2',\n",
       " '_classic_test_patch',\n",
       " '_mpl-gallery',\n",
       " '_mpl-gallery-nogrid',\n",
       " 'bmh',\n",
       " 'classic',\n",
       " 'dark_background',\n",
       " 'fast',\n",
       " 'fivethirtyeight',\n",
       " 'ggplot',\n",
       " 'grayscale',\n",
       " 'seaborn-v0_8',\n",
       " 'seaborn-v0_8-bright',\n",
       " 'seaborn-v0_8-colorblind',\n",
       " 'seaborn-v0_8-dark',\n",
       " 'seaborn-v0_8-dark-palette',\n",
       " 'seaborn-v0_8-darkgrid',\n",
       " 'seaborn-v0_8-deep',\n",
       " 'seaborn-v0_8-muted',\n",
       " 'seaborn-v0_8-notebook',\n",
       " 'seaborn-v0_8-paper',\n",
       " 'seaborn-v0_8-pastel',\n",
       " 'seaborn-v0_8-poster',\n",
       " 'seaborn-v0_8-talk',\n",
       " 'seaborn-v0_8-ticks',\n",
       " 'seaborn-v0_8-white',\n",
       " 'seaborn-v0_8-whitegrid',\n",
       " 'tableau-colorblind10']"
      ]
     },
     "execution_count": 8,
     "metadata": {},
     "output_type": "execute_result"
    }
   ],
   "source": [
    "plt.style.available"
   ]
  },
  {
   "cell_type": "code",
   "execution_count": 9,
   "id": "7fc3bede-a34f-40c1-b384-b4e540e2c865",
   "metadata": {
    "ExecuteTime": {
     "end_time": "2024-08-11T12:11:57.845129Z",
     "start_time": "2024-08-11T12:11:57.840993Z"
    }
   },
   "outputs": [],
   "source": [
    "plt.style.use('bmh')\n",
    "plt.style.use('ggplot')"
   ]
  },
  {
   "cell_type": "code",
   "execution_count": 10,
   "id": "56b010142429e1b3",
   "metadata": {
    "ExecuteTime": {
     "end_time": "2024-08-11T12:17:19.589109Z",
     "start_time": "2024-08-11T12:17:19.586118Z"
    }
   },
   "outputs": [
    {
     "name": "stdout",
     "output_type": "stream",
     "text": [
      "/home/stilyan/SoftUni/Data-Science/03.Data-Visualization-Explotary-Data-Analisys\n"
     ]
    }
   ],
   "source": [
    "import os\n",
    "print(os.getcwd())\n"
   ]
  },
  {
   "cell_type": "code",
   "execution_count": 11,
   "id": "e75c86b2682ff630",
   "metadata": {
    "ExecuteTime": {
     "end_time": "2024-08-11T12:14:47.013375Z",
     "start_time": "2024-08-11T12:14:46.922720Z"
    }
   },
   "outputs": [],
   "source": [
    "whr_2018 = pd.read_csv('data/world_happines/2018.csv')"
   ]
  },
  {
   "cell_type": "code",
   "execution_count": 12,
   "id": "1de81c37-4db0-4160-a990-6fc69695ba73",
   "metadata": {
    "ExecuteTime": {
     "end_time": "2024-08-11T12:12:50.457125Z",
     "start_time": "2024-08-11T12:12:50.278039Z"
    }
   },
   "outputs": [],
   "source": [
    "whr_2018 = pd.read_csv('data/world_happines/2018.csv')\n",
    "whr_2019 = pd.read_csv('data/world_happines/2019.csv')"
   ]
  },
  {
   "cell_type": "code",
   "execution_count": 13,
   "id": "de7b377b-297e-4e1d-b83c-23ac0d7e6782",
   "metadata": {},
   "outputs": [
    {
     "data": {
      "text/html": [
       "<div>\n",
       "<style scoped>\n",
       "    .dataframe tbody tr th:only-of-type {\n",
       "        vertical-align: middle;\n",
       "    }\n",
       "\n",
       "    .dataframe tbody tr th {\n",
       "        vertical-align: top;\n",
       "    }\n",
       "\n",
       "    .dataframe thead th {\n",
       "        text-align: right;\n",
       "    }\n",
       "</style>\n",
       "<table border=\"1\" class=\"dataframe\">\n",
       "  <thead>\n",
       "    <tr style=\"text-align: right;\">\n",
       "      <th></th>\n",
       "      <th>Overall rank</th>\n",
       "      <th>Country or region</th>\n",
       "      <th>Score</th>\n",
       "      <th>GDP per capita</th>\n",
       "      <th>Social support</th>\n",
       "      <th>Healthy life expectancy</th>\n",
       "      <th>Freedom to make life choices</th>\n",
       "      <th>Generosity</th>\n",
       "      <th>Perceptions of corruption</th>\n",
       "    </tr>\n",
       "  </thead>\n",
       "  <tbody>\n",
       "    <tr>\n",
       "      <th>0</th>\n",
       "      <td>1</td>\n",
       "      <td>Finland</td>\n",
       "      <td>7.632</td>\n",
       "      <td>1.305</td>\n",
       "      <td>1.592</td>\n",
       "      <td>0.874</td>\n",
       "      <td>0.681</td>\n",
       "      <td>0.202</td>\n",
       "      <td>0.393</td>\n",
       "    </tr>\n",
       "    <tr>\n",
       "      <th>1</th>\n",
       "      <td>2</td>\n",
       "      <td>Norway</td>\n",
       "      <td>7.594</td>\n",
       "      <td>1.456</td>\n",
       "      <td>1.582</td>\n",
       "      <td>0.861</td>\n",
       "      <td>0.686</td>\n",
       "      <td>0.286</td>\n",
       "      <td>0.340</td>\n",
       "    </tr>\n",
       "    <tr>\n",
       "      <th>2</th>\n",
       "      <td>3</td>\n",
       "      <td>Denmark</td>\n",
       "      <td>7.555</td>\n",
       "      <td>1.351</td>\n",
       "      <td>1.590</td>\n",
       "      <td>0.868</td>\n",
       "      <td>0.683</td>\n",
       "      <td>0.284</td>\n",
       "      <td>0.408</td>\n",
       "    </tr>\n",
       "    <tr>\n",
       "      <th>3</th>\n",
       "      <td>4</td>\n",
       "      <td>Iceland</td>\n",
       "      <td>7.495</td>\n",
       "      <td>1.343</td>\n",
       "      <td>1.644</td>\n",
       "      <td>0.914</td>\n",
       "      <td>0.677</td>\n",
       "      <td>0.353</td>\n",
       "      <td>0.138</td>\n",
       "    </tr>\n",
       "    <tr>\n",
       "      <th>4</th>\n",
       "      <td>5</td>\n",
       "      <td>Switzerland</td>\n",
       "      <td>7.487</td>\n",
       "      <td>1.420</td>\n",
       "      <td>1.549</td>\n",
       "      <td>0.927</td>\n",
       "      <td>0.660</td>\n",
       "      <td>0.256</td>\n",
       "      <td>0.357</td>\n",
       "    </tr>\n",
       "    <tr>\n",
       "      <th>...</th>\n",
       "      <td>...</td>\n",
       "      <td>...</td>\n",
       "      <td>...</td>\n",
       "      <td>...</td>\n",
       "      <td>...</td>\n",
       "      <td>...</td>\n",
       "      <td>...</td>\n",
       "      <td>...</td>\n",
       "      <td>...</td>\n",
       "    </tr>\n",
       "    <tr>\n",
       "      <th>151</th>\n",
       "      <td>152</td>\n",
       "      <td>Yemen</td>\n",
       "      <td>3.355</td>\n",
       "      <td>0.442</td>\n",
       "      <td>1.073</td>\n",
       "      <td>0.343</td>\n",
       "      <td>0.244</td>\n",
       "      <td>0.083</td>\n",
       "      <td>0.064</td>\n",
       "    </tr>\n",
       "    <tr>\n",
       "      <th>152</th>\n",
       "      <td>153</td>\n",
       "      <td>Tanzania</td>\n",
       "      <td>3.303</td>\n",
       "      <td>0.455</td>\n",
       "      <td>0.991</td>\n",
       "      <td>0.381</td>\n",
       "      <td>0.481</td>\n",
       "      <td>0.270</td>\n",
       "      <td>0.097</td>\n",
       "    </tr>\n",
       "    <tr>\n",
       "      <th>153</th>\n",
       "      <td>154</td>\n",
       "      <td>South Sudan</td>\n",
       "      <td>3.254</td>\n",
       "      <td>0.337</td>\n",
       "      <td>0.608</td>\n",
       "      <td>0.177</td>\n",
       "      <td>0.112</td>\n",
       "      <td>0.224</td>\n",
       "      <td>0.106</td>\n",
       "    </tr>\n",
       "    <tr>\n",
       "      <th>154</th>\n",
       "      <td>155</td>\n",
       "      <td>Central African Republic</td>\n",
       "      <td>3.083</td>\n",
       "      <td>0.024</td>\n",
       "      <td>0.000</td>\n",
       "      <td>0.010</td>\n",
       "      <td>0.305</td>\n",
       "      <td>0.218</td>\n",
       "      <td>0.038</td>\n",
       "    </tr>\n",
       "    <tr>\n",
       "      <th>155</th>\n",
       "      <td>156</td>\n",
       "      <td>Burundi</td>\n",
       "      <td>2.905</td>\n",
       "      <td>0.091</td>\n",
       "      <td>0.627</td>\n",
       "      <td>0.145</td>\n",
       "      <td>0.065</td>\n",
       "      <td>0.149</td>\n",
       "      <td>0.076</td>\n",
       "    </tr>\n",
       "  </tbody>\n",
       "</table>\n",
       "<p>156 rows × 9 columns</p>\n",
       "</div>"
      ],
      "text/plain": [
       "     Overall rank         Country or region  Score  GDP per capita  \\\n",
       "0               1                   Finland  7.632           1.305   \n",
       "1               2                    Norway  7.594           1.456   \n",
       "2               3                   Denmark  7.555           1.351   \n",
       "3               4                   Iceland  7.495           1.343   \n",
       "4               5               Switzerland  7.487           1.420   \n",
       "..            ...                       ...    ...             ...   \n",
       "151           152                     Yemen  3.355           0.442   \n",
       "152           153                  Tanzania  3.303           0.455   \n",
       "153           154               South Sudan  3.254           0.337   \n",
       "154           155  Central African Republic  3.083           0.024   \n",
       "155           156                   Burundi  2.905           0.091   \n",
       "\n",
       "     Social support  Healthy life expectancy  Freedom to make life choices  \\\n",
       "0             1.592                    0.874                         0.681   \n",
       "1             1.582                    0.861                         0.686   \n",
       "2             1.590                    0.868                         0.683   \n",
       "3             1.644                    0.914                         0.677   \n",
       "4             1.549                    0.927                         0.660   \n",
       "..              ...                      ...                           ...   \n",
       "151           1.073                    0.343                         0.244   \n",
       "152           0.991                    0.381                         0.481   \n",
       "153           0.608                    0.177                         0.112   \n",
       "154           0.000                    0.010                         0.305   \n",
       "155           0.627                    0.145                         0.065   \n",
       "\n",
       "     Generosity  Perceptions of corruption  \n",
       "0         0.202                      0.393  \n",
       "1         0.286                      0.340  \n",
       "2         0.284                      0.408  \n",
       "3         0.353                      0.138  \n",
       "4         0.256                      0.357  \n",
       "..          ...                        ...  \n",
       "151       0.083                      0.064  \n",
       "152       0.270                      0.097  \n",
       "153       0.224                      0.106  \n",
       "154       0.218                      0.038  \n",
       "155       0.149                      0.076  \n",
       "\n",
       "[156 rows x 9 columns]"
      ]
     },
     "execution_count": 13,
     "metadata": {},
     "output_type": "execute_result"
    }
   ],
   "source": [
    "whr_2018"
   ]
  },
  {
   "cell_type": "code",
   "execution_count": 14,
   "id": "59a9166c-7bc0-4c4d-9fca-45da1a9f20d3",
   "metadata": {},
   "outputs": [
    {
     "data": {
      "text/plain": [
       "Overall rank                      int64\n",
       "Country or region                object\n",
       "Score                           float64\n",
       "GDP per capita                  float64\n",
       "Social support                  float64\n",
       "Healthy life expectancy         float64\n",
       "Freedom to make life choices    float64\n",
       "Generosity                      float64\n",
       "Perceptions of corruption       float64\n",
       "dtype: object"
      ]
     },
     "execution_count": 14,
     "metadata": {},
     "output_type": "execute_result"
    }
   ],
   "source": [
    "whr_2018.dtypes"
   ]
  },
  {
   "cell_type": "code",
   "execution_count": 15,
   "id": "cce61d9a-65e3-4360-9f62-afb32e3b4408",
   "metadata": {
    "ExecuteTime": {
     "end_time": "2024-08-11T12:11:25.468869Z",
     "start_time": "2024-08-11T12:11:25.445844Z"
    }
   },
   "outputs": [
    {
     "data": {
      "text/html": [
       "<div>\n",
       "<style scoped>\n",
       "    .dataframe tbody tr th:only-of-type {\n",
       "        vertical-align: middle;\n",
       "    }\n",
       "\n",
       "    .dataframe tbody tr th {\n",
       "        vertical-align: top;\n",
       "    }\n",
       "\n",
       "    .dataframe thead th {\n",
       "        text-align: right;\n",
       "    }\n",
       "</style>\n",
       "<table border=\"1\" class=\"dataframe\">\n",
       "  <thead>\n",
       "    <tr style=\"text-align: right;\">\n",
       "      <th></th>\n",
       "      <th>count</th>\n",
       "      <th>mean</th>\n",
       "      <th>std</th>\n",
       "      <th>min</th>\n",
       "      <th>25%</th>\n",
       "      <th>50%</th>\n",
       "      <th>75%</th>\n",
       "      <th>max</th>\n",
       "    </tr>\n",
       "  </thead>\n",
       "  <tbody>\n",
       "    <tr>\n",
       "      <th>Overall rank</th>\n",
       "      <td>156.0</td>\n",
       "      <td>78.500000</td>\n",
       "      <td>45.177428</td>\n",
       "      <td>1.000</td>\n",
       "      <td>39.75000</td>\n",
       "      <td>78.5000</td>\n",
       "      <td>117.25000</td>\n",
       "      <td>156.000</td>\n",
       "    </tr>\n",
       "    <tr>\n",
       "      <th>Score</th>\n",
       "      <td>156.0</td>\n",
       "      <td>5.375917</td>\n",
       "      <td>1.119506</td>\n",
       "      <td>2.905</td>\n",
       "      <td>4.45375</td>\n",
       "      <td>5.3780</td>\n",
       "      <td>6.16850</td>\n",
       "      <td>7.632</td>\n",
       "    </tr>\n",
       "    <tr>\n",
       "      <th>GDP per capita</th>\n",
       "      <td>156.0</td>\n",
       "      <td>0.891449</td>\n",
       "      <td>0.391921</td>\n",
       "      <td>0.000</td>\n",
       "      <td>0.61625</td>\n",
       "      <td>0.9495</td>\n",
       "      <td>1.19775</td>\n",
       "      <td>2.096</td>\n",
       "    </tr>\n",
       "    <tr>\n",
       "      <th>Social support</th>\n",
       "      <td>156.0</td>\n",
       "      <td>1.213237</td>\n",
       "      <td>0.302372</td>\n",
       "      <td>0.000</td>\n",
       "      <td>1.06675</td>\n",
       "      <td>1.2550</td>\n",
       "      <td>1.46300</td>\n",
       "      <td>1.644</td>\n",
       "    </tr>\n",
       "    <tr>\n",
       "      <th>Healthy life expectancy</th>\n",
       "      <td>156.0</td>\n",
       "      <td>0.597346</td>\n",
       "      <td>0.247579</td>\n",
       "      <td>0.000</td>\n",
       "      <td>0.42225</td>\n",
       "      <td>0.6440</td>\n",
       "      <td>0.77725</td>\n",
       "      <td>1.030</td>\n",
       "    </tr>\n",
       "    <tr>\n",
       "      <th>Freedom to make life choices</th>\n",
       "      <td>156.0</td>\n",
       "      <td>0.454506</td>\n",
       "      <td>0.162424</td>\n",
       "      <td>0.000</td>\n",
       "      <td>0.35600</td>\n",
       "      <td>0.4870</td>\n",
       "      <td>0.57850</td>\n",
       "      <td>0.724</td>\n",
       "    </tr>\n",
       "    <tr>\n",
       "      <th>Generosity</th>\n",
       "      <td>156.0</td>\n",
       "      <td>0.181006</td>\n",
       "      <td>0.098471</td>\n",
       "      <td>0.000</td>\n",
       "      <td>0.10950</td>\n",
       "      <td>0.1740</td>\n",
       "      <td>0.23900</td>\n",
       "      <td>0.598</td>\n",
       "    </tr>\n",
       "    <tr>\n",
       "      <th>Perceptions of corruption</th>\n",
       "      <td>155.0</td>\n",
       "      <td>0.112000</td>\n",
       "      <td>0.096492</td>\n",
       "      <td>0.000</td>\n",
       "      <td>0.05100</td>\n",
       "      <td>0.0820</td>\n",
       "      <td>0.13700</td>\n",
       "      <td>0.457</td>\n",
       "    </tr>\n",
       "  </tbody>\n",
       "</table>\n",
       "</div>"
      ],
      "text/plain": [
       "                              count       mean        std    min       25%  \\\n",
       "Overall rank                  156.0  78.500000  45.177428  1.000  39.75000   \n",
       "Score                         156.0   5.375917   1.119506  2.905   4.45375   \n",
       "GDP per capita                156.0   0.891449   0.391921  0.000   0.61625   \n",
       "Social support                156.0   1.213237   0.302372  0.000   1.06675   \n",
       "Healthy life expectancy       156.0   0.597346   0.247579  0.000   0.42225   \n",
       "Freedom to make life choices  156.0   0.454506   0.162424  0.000   0.35600   \n",
       "Generosity                    156.0   0.181006   0.098471  0.000   0.10950   \n",
       "Perceptions of corruption     155.0   0.112000   0.096492  0.000   0.05100   \n",
       "\n",
       "                                  50%        75%      max  \n",
       "Overall rank                  78.5000  117.25000  156.000  \n",
       "Score                          5.3780    6.16850    7.632  \n",
       "GDP per capita                 0.9495    1.19775    2.096  \n",
       "Social support                 1.2550    1.46300    1.644  \n",
       "Healthy life expectancy        0.6440    0.77725    1.030  \n",
       "Freedom to make life choices   0.4870    0.57850    0.724  \n",
       "Generosity                     0.1740    0.23900    0.598  \n",
       "Perceptions of corruption      0.0820    0.13700    0.457  "
      ]
     },
     "execution_count": 15,
     "metadata": {},
     "output_type": "execute_result"
    }
   ],
   "source": [
    "whr_2018.describe().T"
   ]
  },
  {
   "cell_type": "code",
   "execution_count": 16,
   "id": "f92bf364-8f3b-4b76-9410-021ef777629f",
   "metadata": {},
   "outputs": [
    {
     "data": {
      "text/plain": [
       "Overall rank                      int64\n",
       "Country or region                object\n",
       "Score                           float64\n",
       "GDP per capita                  float64\n",
       "Social support                  float64\n",
       "Healthy life expectancy         float64\n",
       "Freedom to make life choices    float64\n",
       "Generosity                      float64\n",
       "Perceptions of corruption       float64\n",
       "dtype: object"
      ]
     },
     "execution_count": 16,
     "metadata": {},
     "output_type": "execute_result"
    }
   ],
   "source": [
    "whr_2019.dtypes"
   ]
  },
  {
   "cell_type": "code",
   "execution_count": 17,
   "id": "49949ae2-7a46-4798-a94a-aef5bdb58ac5",
   "metadata": {},
   "outputs": [
    {
     "data": {
      "text/html": [
       "<div>\n",
       "<style scoped>\n",
       "    .dataframe tbody tr th:only-of-type {\n",
       "        vertical-align: middle;\n",
       "    }\n",
       "\n",
       "    .dataframe tbody tr th {\n",
       "        vertical-align: top;\n",
       "    }\n",
       "\n",
       "    .dataframe thead th {\n",
       "        text-align: right;\n",
       "    }\n",
       "</style>\n",
       "<table border=\"1\" class=\"dataframe\">\n",
       "  <thead>\n",
       "    <tr style=\"text-align: right;\">\n",
       "      <th></th>\n",
       "      <th>count</th>\n",
       "      <th>mean</th>\n",
       "      <th>std</th>\n",
       "      <th>min</th>\n",
       "      <th>25%</th>\n",
       "      <th>50%</th>\n",
       "      <th>75%</th>\n",
       "      <th>max</th>\n",
       "    </tr>\n",
       "  </thead>\n",
       "  <tbody>\n",
       "    <tr>\n",
       "      <th>Overall rank</th>\n",
       "      <td>156.0</td>\n",
       "      <td>78.500000</td>\n",
       "      <td>45.177428</td>\n",
       "      <td>1.000</td>\n",
       "      <td>39.75000</td>\n",
       "      <td>78.5000</td>\n",
       "      <td>117.25000</td>\n",
       "      <td>156.000</td>\n",
       "    </tr>\n",
       "    <tr>\n",
       "      <th>Score</th>\n",
       "      <td>156.0</td>\n",
       "      <td>5.407096</td>\n",
       "      <td>1.113120</td>\n",
       "      <td>2.853</td>\n",
       "      <td>4.54450</td>\n",
       "      <td>5.3795</td>\n",
       "      <td>6.18450</td>\n",
       "      <td>7.769</td>\n",
       "    </tr>\n",
       "    <tr>\n",
       "      <th>GDP per capita</th>\n",
       "      <td>156.0</td>\n",
       "      <td>0.905147</td>\n",
       "      <td>0.398389</td>\n",
       "      <td>0.000</td>\n",
       "      <td>0.60275</td>\n",
       "      <td>0.9600</td>\n",
       "      <td>1.23250</td>\n",
       "      <td>1.684</td>\n",
       "    </tr>\n",
       "    <tr>\n",
       "      <th>Social support</th>\n",
       "      <td>156.0</td>\n",
       "      <td>1.208814</td>\n",
       "      <td>0.299191</td>\n",
       "      <td>0.000</td>\n",
       "      <td>1.05575</td>\n",
       "      <td>1.2715</td>\n",
       "      <td>1.45250</td>\n",
       "      <td>1.624</td>\n",
       "    </tr>\n",
       "    <tr>\n",
       "      <th>Healthy life expectancy</th>\n",
       "      <td>156.0</td>\n",
       "      <td>0.725244</td>\n",
       "      <td>0.242124</td>\n",
       "      <td>0.000</td>\n",
       "      <td>0.54775</td>\n",
       "      <td>0.7890</td>\n",
       "      <td>0.88175</td>\n",
       "      <td>1.141</td>\n",
       "    </tr>\n",
       "    <tr>\n",
       "      <th>Freedom to make life choices</th>\n",
       "      <td>156.0</td>\n",
       "      <td>0.392571</td>\n",
       "      <td>0.143289</td>\n",
       "      <td>0.000</td>\n",
       "      <td>0.30800</td>\n",
       "      <td>0.4170</td>\n",
       "      <td>0.50725</td>\n",
       "      <td>0.631</td>\n",
       "    </tr>\n",
       "    <tr>\n",
       "      <th>Generosity</th>\n",
       "      <td>156.0</td>\n",
       "      <td>0.184846</td>\n",
       "      <td>0.095254</td>\n",
       "      <td>0.000</td>\n",
       "      <td>0.10875</td>\n",
       "      <td>0.1775</td>\n",
       "      <td>0.24825</td>\n",
       "      <td>0.566</td>\n",
       "    </tr>\n",
       "    <tr>\n",
       "      <th>Perceptions of corruption</th>\n",
       "      <td>156.0</td>\n",
       "      <td>0.110603</td>\n",
       "      <td>0.094538</td>\n",
       "      <td>0.000</td>\n",
       "      <td>0.04700</td>\n",
       "      <td>0.0855</td>\n",
       "      <td>0.14125</td>\n",
       "      <td>0.453</td>\n",
       "    </tr>\n",
       "  </tbody>\n",
       "</table>\n",
       "</div>"
      ],
      "text/plain": [
       "                              count       mean        std    min       25%  \\\n",
       "Overall rank                  156.0  78.500000  45.177428  1.000  39.75000   \n",
       "Score                         156.0   5.407096   1.113120  2.853   4.54450   \n",
       "GDP per capita                156.0   0.905147   0.398389  0.000   0.60275   \n",
       "Social support                156.0   1.208814   0.299191  0.000   1.05575   \n",
       "Healthy life expectancy       156.0   0.725244   0.242124  0.000   0.54775   \n",
       "Freedom to make life choices  156.0   0.392571   0.143289  0.000   0.30800   \n",
       "Generosity                    156.0   0.184846   0.095254  0.000   0.10875   \n",
       "Perceptions of corruption     156.0   0.110603   0.094538  0.000   0.04700   \n",
       "\n",
       "                                  50%        75%      max  \n",
       "Overall rank                  78.5000  117.25000  156.000  \n",
       "Score                          5.3795    6.18450    7.769  \n",
       "GDP per capita                 0.9600    1.23250    1.684  \n",
       "Social support                 1.2715    1.45250    1.624  \n",
       "Healthy life expectancy        0.7890    0.88175    1.141  \n",
       "Freedom to make life choices   0.4170    0.50725    0.631  \n",
       "Generosity                     0.1775    0.24825    0.566  \n",
       "Perceptions of corruption      0.0855    0.14125    0.453  "
      ]
     },
     "execution_count": 17,
     "metadata": {},
     "output_type": "execute_result"
    }
   ],
   "source": [
    "whr_2019.describe().T "
   ]
  },
  {
   "cell_type": "code",
   "execution_count": 18,
   "id": "aa1eb184-c976-4066-b096-df812540978e",
   "metadata": {
    "ExecuteTime": {
     "end_time": "2024-08-11T12:11:45.136549Z",
     "start_time": "2024-08-11T12:11:45.086945Z"
    }
   },
   "outputs": [
    {
     "data": {
      "image/png": "[encoded data removed]",
      "text/plain": [
       "<Figure size 640x480 with 1 Axes>"
      ]
     },
     "metadata": {},
     "output_type": "display_data"
    }
   ],
   "source": [
    "# making HISTOGRAM\n",
    "plt.hist(whr_2018[\"GDP per capita\"])\n",
    "\n",
    "plt.xlabel('GDP contribution')\n",
    "plt.ylabel('Count')\n",
    "plt.show()"
   ]
  },
  {
   "cell_type": "code",
   "execution_count": 19,
   "id": "03b3a8bf-23db-427a-8ffd-05858df21229",
   "metadata": {},
   "outputs": [
    {
     "data": {
      "text/plain": [
       "0.8914487179487179"
      ]
     },
     "execution_count": 19,
     "metadata": {},
     "output_type": "execute_result"
    }
   ],
   "source": [
    "# we take mean for column\n",
    "whr_2018['GDP per capita'].mean()"
   ]
  },
  {
   "cell_type": "code",
   "execution_count": 20,
   "id": "4eea508a-32a1-4321-b85f-a7e0884baea5",
   "metadata": {},
   "outputs": [
    {
     "data": {
      "image/png": "[encoded data removed]",
      "text/plain": [
       "<Figure size 640x480 with 1 Axes>"
      ]
     },
     "metadata": {},
     "output_type": "display_data"
    }
   ],
   "source": [
    "# we can change bins \n",
    "# there is a ruls for optimal bins\n",
    "plt.hist(whr_2018[\"GDP per capita\"], bins = 15 )#\"fd\"\n",
    "\n",
    "plt.xlabel('GDP contribution')\n",
    "plt.ylabel('Count')\n",
    "plt.show()"
   ]
  },
  {
   "cell_type": "code",
   "execution_count": 21,
   "id": "f128d3bc-1bcb-4a5c-b762-1e978c36beb4",
   "metadata": {},
   "outputs": [
    {
     "data": {
      "text/html": [
       "<div>\n",
       "<style scoped>\n",
       "    .dataframe tbody tr th:only-of-type {\n",
       "        vertical-align: middle;\n",
       "    }\n",
       "\n",
       "    .dataframe tbody tr th {\n",
       "        vertical-align: top;\n",
       "    }\n",
       "\n",
       "    .dataframe thead th {\n",
       "        text-align: right;\n",
       "    }\n",
       "</style>\n",
       "<table border=\"1\" class=\"dataframe\">\n",
       "  <thead>\n",
       "    <tr style=\"text-align: right;\">\n",
       "      <th></th>\n",
       "      <th>Overall rank</th>\n",
       "      <th>Country or region</th>\n",
       "      <th>Score</th>\n",
       "      <th>GDP per capita</th>\n",
       "      <th>Social support</th>\n",
       "      <th>Healthy life expectancy</th>\n",
       "      <th>Freedom to make life choices</th>\n",
       "      <th>Generosity</th>\n",
       "      <th>Perceptions of corruption</th>\n",
       "    </tr>\n",
       "  </thead>\n",
       "  <tbody>\n",
       "    <tr>\n",
       "      <th>33</th>\n",
       "      <td>34</td>\n",
       "      <td>Singapore</td>\n",
       "      <td>6.343</td>\n",
       "      <td>1.529</td>\n",
       "      <td>1.451</td>\n",
       "      <td>1.008</td>\n",
       "      <td>0.631</td>\n",
       "      <td>0.261</td>\n",
       "      <td>0.457</td>\n",
       "    </tr>\n",
       "    <tr>\n",
       "      <th>16</th>\n",
       "      <td>17</td>\n",
       "      <td>Luxembourg</td>\n",
       "      <td>6.910</td>\n",
       "      <td>1.576</td>\n",
       "      <td>1.520</td>\n",
       "      <td>0.896</td>\n",
       "      <td>0.632</td>\n",
       "      <td>0.196</td>\n",
       "      <td>0.321</td>\n",
       "    </tr>\n",
       "    <tr>\n",
       "      <th>31</th>\n",
       "      <td>32</td>\n",
       "      <td>Qatar</td>\n",
       "      <td>6.374</td>\n",
       "      <td>1.649</td>\n",
       "      <td>1.303</td>\n",
       "      <td>0.748</td>\n",
       "      <td>0.654</td>\n",
       "      <td>0.256</td>\n",
       "      <td>0.171</td>\n",
       "    </tr>\n",
       "  </tbody>\n",
       "</table>\n",
       "</div>"
      ],
      "text/plain": [
       "    Overall rank Country or region  Score  GDP per capita  Social support  \\\n",
       "33            34         Singapore  6.343           1.529           1.451   \n",
       "16            17        Luxembourg  6.910           1.576           1.520   \n",
       "31            32             Qatar  6.374           1.649           1.303   \n",
       "\n",
       "    Healthy life expectancy  Freedom to make life choices  Generosity  \\\n",
       "33                    1.008                         0.631       0.261   \n",
       "16                    0.896                         0.632       0.196   \n",
       "31                    0.748                         0.654       0.256   \n",
       "\n",
       "    Perceptions of corruption  \n",
       "33                      0.457  \n",
       "16                      0.321  \n",
       "31                      0.171  "
      ]
     },
     "execution_count": 21,
     "metadata": {},
     "output_type": "execute_result"
    }
   ],
   "source": [
    "# we assump that there is a missing data. And check it \n",
    "whr_2018[(whr_2018[\"GDP per capita\"] > 1.5) & (whr_2018[\"GDP per capita\"] <=2.0)].sort_values(\"GDP per capita\")"
   ]
  },
  {
   "cell_type": "code",
   "execution_count": 22,
   "id": "adee084e-d1e6-4381-89e1-08ad941b7651",
   "metadata": {},
   "outputs": [
    {
     "data": {
      "text/html": [
       "<div>\n",
       "<style scoped>\n",
       "    .dataframe tbody tr th:only-of-type {\n",
       "        vertical-align: middle;\n",
       "    }\n",
       "\n",
       "    .dataframe tbody tr th {\n",
       "        vertical-align: top;\n",
       "    }\n",
       "\n",
       "    .dataframe thead th {\n",
       "        text-align: right;\n",
       "    }\n",
       "</style>\n",
       "<table border=\"1\" class=\"dataframe\">\n",
       "  <thead>\n",
       "    <tr style=\"text-align: right;\">\n",
       "      <th></th>\n",
       "      <th>Overall rank</th>\n",
       "      <th>Country or region</th>\n",
       "      <th>Score</th>\n",
       "      <th>GDP per capita</th>\n",
       "      <th>Social support</th>\n",
       "      <th>Healthy life expectancy</th>\n",
       "      <th>Freedom to make life choices</th>\n",
       "      <th>Generosity</th>\n",
       "      <th>Perceptions of corruption</th>\n",
       "    </tr>\n",
       "  </thead>\n",
       "  <tbody>\n",
       "    <tr>\n",
       "      <th>97</th>\n",
       "      <td>98</td>\n",
       "      <td>Somalia</td>\n",
       "      <td>4.982</td>\n",
       "      <td>0.000</td>\n",
       "      <td>0.712</td>\n",
       "      <td>0.115</td>\n",
       "      <td>0.674</td>\n",
       "      <td>0.238</td>\n",
       "      <td>0.282</td>\n",
       "    </tr>\n",
       "    <tr>\n",
       "      <th>154</th>\n",
       "      <td>155</td>\n",
       "      <td>Central African Republic</td>\n",
       "      <td>3.083</td>\n",
       "      <td>0.024</td>\n",
       "      <td>0.000</td>\n",
       "      <td>0.010</td>\n",
       "      <td>0.305</td>\n",
       "      <td>0.218</td>\n",
       "      <td>0.038</td>\n",
       "    </tr>\n",
       "    <tr>\n",
       "      <th>131</th>\n",
       "      <td>132</td>\n",
       "      <td>Congo (Kinshasa)</td>\n",
       "      <td>4.245</td>\n",
       "      <td>0.069</td>\n",
       "      <td>1.136</td>\n",
       "      <td>0.204</td>\n",
       "      <td>0.312</td>\n",
       "      <td>0.197</td>\n",
       "      <td>0.052</td>\n",
       "    </tr>\n",
       "    <tr>\n",
       "      <th>148</th>\n",
       "      <td>149</td>\n",
       "      <td>Liberia</td>\n",
       "      <td>3.495</td>\n",
       "      <td>0.076</td>\n",
       "      <td>0.858</td>\n",
       "      <td>0.267</td>\n",
       "      <td>0.419</td>\n",
       "      <td>0.206</td>\n",
       "      <td>0.030</td>\n",
       "    </tr>\n",
       "    <tr>\n",
       "      <th>155</th>\n",
       "      <td>156</td>\n",
       "      <td>Burundi</td>\n",
       "      <td>2.905</td>\n",
       "      <td>0.091</td>\n",
       "      <td>0.627</td>\n",
       "      <td>0.145</td>\n",
       "      <td>0.065</td>\n",
       "      <td>0.149</td>\n",
       "      <td>0.076</td>\n",
       "    </tr>\n",
       "    <tr>\n",
       "      <th>133</th>\n",
       "      <td>134</td>\n",
       "      <td>Niger</td>\n",
       "      <td>4.166</td>\n",
       "      <td>0.131</td>\n",
       "      <td>0.867</td>\n",
       "      <td>0.221</td>\n",
       "      <td>0.390</td>\n",
       "      <td>0.175</td>\n",
       "      <td>0.099</td>\n",
       "    </tr>\n",
       "    <tr>\n",
       "      <th>146</th>\n",
       "      <td>147</td>\n",
       "      <td>Malawi</td>\n",
       "      <td>3.587</td>\n",
       "      <td>0.186</td>\n",
       "      <td>0.541</td>\n",
       "      <td>0.306</td>\n",
       "      <td>0.531</td>\n",
       "      <td>0.210</td>\n",
       "      <td>0.080</td>\n",
       "    </tr>\n",
       "    <tr>\n",
       "      <th>122</th>\n",
       "      <td>123</td>\n",
       "      <td>Mozambique</td>\n",
       "      <td>4.417</td>\n",
       "      <td>0.198</td>\n",
       "      <td>0.902</td>\n",
       "      <td>0.173</td>\n",
       "      <td>0.531</td>\n",
       "      <td>0.206</td>\n",
       "      <td>0.158</td>\n",
       "    </tr>\n",
       "    <tr>\n",
       "      <th>112</th>\n",
       "      <td>113</td>\n",
       "      <td>Sierra Leone</td>\n",
       "      <td>4.571</td>\n",
       "      <td>0.256</td>\n",
       "      <td>0.813</td>\n",
       "      <td>0.000</td>\n",
       "      <td>0.355</td>\n",
       "      <td>0.238</td>\n",
       "      <td>0.053</td>\n",
       "    </tr>\n",
       "    <tr>\n",
       "      <th>138</th>\n",
       "      <td>139</td>\n",
       "      <td>Togo</td>\n",
       "      <td>3.999</td>\n",
       "      <td>0.259</td>\n",
       "      <td>0.474</td>\n",
       "      <td>0.253</td>\n",
       "      <td>0.434</td>\n",
       "      <td>0.158</td>\n",
       "      <td>0.101</td>\n",
       "    </tr>\n",
       "  </tbody>\n",
       "</table>\n",
       "</div>"
      ],
      "text/plain": [
       "     Overall rank         Country or region  Score  GDP per capita  \\\n",
       "97             98                   Somalia  4.982           0.000   \n",
       "154           155  Central African Republic  3.083           0.024   \n",
       "131           132          Congo (Kinshasa)  4.245           0.069   \n",
       "148           149                   Liberia  3.495           0.076   \n",
       "155           156                   Burundi  2.905           0.091   \n",
       "133           134                     Niger  4.166           0.131   \n",
       "146           147                    Malawi  3.587           0.186   \n",
       "122           123                Mozambique  4.417           0.198   \n",
       "112           113              Sierra Leone  4.571           0.256   \n",
       "138           139                      Togo  3.999           0.259   \n",
       "\n",
       "     Social support  Healthy life expectancy  Freedom to make life choices  \\\n",
       "97            0.712                    0.115                         0.674   \n",
       "154           0.000                    0.010                         0.305   \n",
       "131           1.136                    0.204                         0.312   \n",
       "148           0.858                    0.267                         0.419   \n",
       "155           0.627                    0.145                         0.065   \n",
       "133           0.867                    0.221                         0.390   \n",
       "146           0.541                    0.306                         0.531   \n",
       "122           0.902                    0.173                         0.531   \n",
       "112           0.813                    0.000                         0.355   \n",
       "138           0.474                    0.253                         0.434   \n",
       "\n",
       "     Generosity  Perceptions of corruption  \n",
       "97        0.238                      0.282  \n",
       "154       0.218                      0.038  \n",
       "131       0.197                      0.052  \n",
       "148       0.206                      0.030  \n",
       "155       0.149                      0.076  \n",
       "133       0.175                      0.099  \n",
       "146       0.210                      0.080  \n",
       "122       0.206                      0.158  \n",
       "112       0.238                      0.053  \n",
       "138       0.158                      0.101  "
      ]
     },
     "execution_count": 22,
     "metadata": {},
     "output_type": "execute_result"
    }
   ],
   "source": [
    "# Countries with smallest GDP \n",
    "whr_2018.nsmallest(10, \"GDP per capita\")"
   ]
  },
  {
   "cell_type": "code",
   "execution_count": 23,
   "id": "64a33f09-56ce-4ee4-8b24-45a99b442414",
   "metadata": {},
   "outputs": [
    {
     "data": {
      "image/png": "[encoded data removed]",
      "text/plain": [
       "<Figure size 640x480 with 1 Axes>"
      ]
     },
     "metadata": {},
     "output_type": "display_data"
    }
   ],
   "source": [
    "plt.hist(whr_2018.nsmallest(10, \"GDP per capita\")[\"GDP per capita\"], bins=20)\n",
    "plt.show() "
   ]
  },
  {
   "cell_type": "code",
   "execution_count": 18,
   "id": "d46afd70-007e-4a3a-b367-e763534cbefe",
   "metadata": {},
   "outputs": [
    {
     "data": {
      "text/html": [
       "<div>\n",
       "<style scoped>\n",
       "    .dataframe tbody tr th:only-of-type {\n",
       "        vertical-align: middle;\n",
       "    }\n",
       "\n",
       "    .dataframe tbody tr th {\n",
       "        vertical-align: top;\n",
       "    }\n",
       "\n",
       "    .dataframe thead th {\n",
       "        text-align: right;\n",
       "    }\n",
       "</style>\n",
       "<table border=\"1\" class=\"dataframe\">\n",
       "  <thead>\n",
       "    <tr style=\"text-align: right;\">\n",
       "      <th></th>\n",
       "      <th>Overall rank</th>\n",
       "      <th>Country or region</th>\n",
       "      <th>Score</th>\n",
       "      <th>GDP per capita</th>\n",
       "      <th>Social support</th>\n",
       "      <th>Healthy life expectancy</th>\n",
       "      <th>Freedom to make life choices</th>\n",
       "      <th>Generosity</th>\n",
       "      <th>Perceptions of corruption</th>\n",
       "    </tr>\n",
       "  </thead>\n",
       "  <tbody>\n",
       "    <tr>\n",
       "      <th>33</th>\n",
       "      <td>34</td>\n",
       "      <td>Singapore</td>\n",
       "      <td>6.343</td>\n",
       "      <td>1.529</td>\n",
       "      <td>1.451</td>\n",
       "      <td>1.008</td>\n",
       "      <td>0.631</td>\n",
       "      <td>0.261</td>\n",
       "      <td>0.457</td>\n",
       "    </tr>\n",
       "    <tr>\n",
       "      <th>16</th>\n",
       "      <td>17</td>\n",
       "      <td>Luxembourg</td>\n",
       "      <td>6.910</td>\n",
       "      <td>1.576</td>\n",
       "      <td>1.520</td>\n",
       "      <td>0.896</td>\n",
       "      <td>0.632</td>\n",
       "      <td>0.196</td>\n",
       "      <td>0.321</td>\n",
       "    </tr>\n",
       "    <tr>\n",
       "      <th>31</th>\n",
       "      <td>32</td>\n",
       "      <td>Qatar</td>\n",
       "      <td>6.374</td>\n",
       "      <td>1.649</td>\n",
       "      <td>1.303</td>\n",
       "      <td>0.748</td>\n",
       "      <td>0.654</td>\n",
       "      <td>0.256</td>\n",
       "      <td>0.171</td>\n",
       "    </tr>\n",
       "  </tbody>\n",
       "</table>\n",
       "</div>"
      ],
      "text/plain": [
       "    Overall rank Country or region  Score  GDP per capita  Social support  \\\n",
       "33            34         Singapore  6.343           1.529           1.451   \n",
       "16            17        Luxembourg  6.910           1.576           1.520   \n",
       "31            32             Qatar  6.374           1.649           1.303   \n",
       "\n",
       "    Healthy life expectancy  Freedom to make life choices  Generosity  \\\n",
       "33                    1.008                         0.631       0.261   \n",
       "16                    0.896                         0.632       0.196   \n",
       "31                    0.748                         0.654       0.256   \n",
       "\n",
       "    Perceptions of corruption  \n",
       "33                      0.457  \n",
       "16                      0.321  \n",
       "31                      0.171  "
      ]
     },
     "execution_count": 18,
     "metadata": {},
     "output_type": "execute_result"
    }
   ],
   "source": [
    "whr_2018[(whr_2018[\"GDP per capita\"] > 1.5) & (whr_2018[\"GDP per capita\"] <=2.0)].sort_values(\"GDP per capita\")"
   ]
  },
  {
   "cell_type": "code",
   "execution_count": 19,
   "id": "f44d8560-243c-4ac8-ac2d-b651966be6b3",
   "metadata": {},
   "outputs": [
    {
     "data": {
      "text/html": [
       "<div>\n",
       "<style scoped>\n",
       "    .dataframe tbody tr th:only-of-type {\n",
       "        vertical-align: middle;\n",
       "    }\n",
       "\n",
       "    .dataframe tbody tr th {\n",
       "        vertical-align: top;\n",
       "    }\n",
       "\n",
       "    .dataframe thead th {\n",
       "        text-align: right;\n",
       "    }\n",
       "</style>\n",
       "<table border=\"1\" class=\"dataframe\">\n",
       "  <thead>\n",
       "    <tr style=\"text-align: right;\">\n",
       "      <th></th>\n",
       "      <th>Overall rank</th>\n",
       "      <th>Country or region</th>\n",
       "      <th>Score</th>\n",
       "      <th>GDP per capita</th>\n",
       "      <th>Social support</th>\n",
       "      <th>Healthy life expectancy</th>\n",
       "      <th>Freedom to make life choices</th>\n",
       "      <th>Generosity</th>\n",
       "      <th>Perceptions of corruption</th>\n",
       "    </tr>\n",
       "  </thead>\n",
       "  <tbody>\n",
       "    <tr>\n",
       "      <th>20</th>\n",
       "      <td>21</td>\n",
       "      <td>United Arab Emirates</td>\n",
       "      <td>6.825</td>\n",
       "      <td>1.503</td>\n",
       "      <td>1.310</td>\n",
       "      <td>0.825</td>\n",
       "      <td>0.598</td>\n",
       "      <td>0.262</td>\n",
       "      <td>0.182</td>\n",
       "    </tr>\n",
       "    <tr>\n",
       "      <th>33</th>\n",
       "      <td>34</td>\n",
       "      <td>Singapore</td>\n",
       "      <td>6.262</td>\n",
       "      <td>1.572</td>\n",
       "      <td>1.463</td>\n",
       "      <td>1.141</td>\n",
       "      <td>0.556</td>\n",
       "      <td>0.271</td>\n",
       "      <td>0.453</td>\n",
       "    </tr>\n",
       "    <tr>\n",
       "      <th>13</th>\n",
       "      <td>14</td>\n",
       "      <td>Luxembourg</td>\n",
       "      <td>7.090</td>\n",
       "      <td>1.609</td>\n",
       "      <td>1.479</td>\n",
       "      <td>1.012</td>\n",
       "      <td>0.526</td>\n",
       "      <td>0.194</td>\n",
       "      <td>0.316</td>\n",
       "    </tr>\n",
       "    <tr>\n",
       "      <th>28</th>\n",
       "      <td>29</td>\n",
       "      <td>Qatar</td>\n",
       "      <td>6.374</td>\n",
       "      <td>1.684</td>\n",
       "      <td>1.313</td>\n",
       "      <td>0.871</td>\n",
       "      <td>0.555</td>\n",
       "      <td>0.220</td>\n",
       "      <td>0.167</td>\n",
       "    </tr>\n",
       "  </tbody>\n",
       "</table>\n",
       "</div>"
      ],
      "text/plain": [
       "    Overall rank     Country or region  Score  GDP per capita  Social support  \\\n",
       "20            21  United Arab Emirates  6.825           1.503           1.310   \n",
       "33            34             Singapore  6.262           1.572           1.463   \n",
       "13            14            Luxembourg  7.090           1.609           1.479   \n",
       "28            29                 Qatar  6.374           1.684           1.313   \n",
       "\n",
       "    Healthy life expectancy  Freedom to make life choices  Generosity  \\\n",
       "20                    0.825                         0.598       0.262   \n",
       "33                    1.141                         0.556       0.271   \n",
       "13                    1.012                         0.526       0.194   \n",
       "28                    0.871                         0.555       0.220   \n",
       "\n",
       "    Perceptions of corruption  \n",
       "20                      0.182  \n",
       "33                      0.453  \n",
       "13                      0.316  \n",
       "28                      0.167  "
      ]
     },
     "execution_count": 19,
     "metadata": {},
     "output_type": "execute_result"
    }
   ],
   "source": [
    "# let's who is this countries from 2019 \n",
    "whr_2019[(whr_2019[\"GDP per capita\"] >1.5) & (whr_2019[\"GDP per capita\"] <= 2)].sort_values(\"GDP per capita\")"
   ]
  },
  {
   "cell_type": "code",
   "execution_count": 20,
   "id": "77b93e98-e02a-48b2-8a9c-973a680252b2",
   "metadata": {},
   "outputs": [
    {
     "data": {
      "image/png": "[encoded data removed]",
      "text/plain": [
       "<Figure size 640x480 with 1 Axes>"
      ]
     },
     "metadata": {},
     "output_type": "display_data"
    }
   ],
   "source": [
    "# we can make hist for both datasets\n",
    "# stacked hist\n",
    "plt.hist(whr_2018[\"GDP per capita\"],bins = 15, label=\"2018\", alpha=0.7) \n",
    "plt.hist(whr_2019[\"GDP per capita\"], bins =15, label=\"2019\" , alpha=0.7) \n",
    "plt.legend() \n",
    "plt.xlabel(\"GDP per capita\") \n",
    "plt.ylabel(\"Count\")\n",
    "plt.show() "
   ]
  },
  {
   "cell_type": "code",
   "execution_count": 21,
   "id": "44febf40-915a-4dfb-9656-1d8ac635473b",
   "metadata": {},
   "outputs": [
    {
     "data": {
      "image/png": "[encoded data removed]",
      "text/plain": [
       "<Figure size 640x480 with 1 Axes>"
      ]
     },
     "metadata": {},
     "output_type": "display_data"
    }
   ],
   "source": [
    "# Score hist\n",
    "plt.hist(whr_2018[\"Score\"],bins = 15, label=\"2018\", alpha=0.7) \n",
    "plt.hist(whr_2019[\"Score\"], bins =15, label=\"2019\" , alpha=0.7) \n",
    "plt.legend() \n",
    "plt.xlabel(\"GDP per capita\") \n",
    "plt.ylabel(\"Count\")\n",
    "plt.show() "
   ]
  },
  {
   "cell_type": "code",
   "execution_count": 23,
   "id": "a18d9d9b-abe0-4de9-a1ba-b842a2076efd",
   "metadata": {},
   "outputs": [
    {
     "data": {
      "image/png": "[encoded data removed]",
      "text/plain": [
       "<Figure size 640x480 with 1 Axes>"
      ]
     },
     "metadata": {},
     "output_type": "display_data"
    }
   ],
   "source": [
    "plt.boxplot([whr_2018[\"Score\"], whr_2019[\"Score\"]])\n",
    "plt.xticks((1,2), [\"2018\", \"2019\"])\n",
    "plt.show()"
   ]
  },
  {
   "cell_type": "code",
   "execution_count": 24,
   "id": "019d160e-9334-493d-b28b-f08948b2f3dd",
   "metadata": {},
   "outputs": [],
   "source": [
    "# Merge 2 dataset in one by Country\n",
    "# whr_2018.merge(whr_2019, on=\"Country or region\") # if columns are with same name in both tables\n",
    "# if they have different names in tables we can use this:\n",
    "whr_mergerd = whr_2018.merge(whr_2019, left_on = \"Country or region\" , right_on=\"Country or region\", suffixes=[\"_2018\", \"_2019\"])"
   ]
  },
  {
   "cell_type": "code",
   "execution_count": 25,
   "id": "43ae20ec-b1f7-4f91-8d5f-6b02177a0fb3",
   "metadata": {},
   "outputs": [],
   "source": [
    "scores = whr_mergerd[[\"Country or region\", \"Score_2018\" , \"Score_2019\"]]"
   ]
  },
  {
   "cell_type": "code",
   "execution_count": 26,
   "id": "dc313b5c-e75a-4c5f-8242-2cb971f5aed8",
   "metadata": {},
   "outputs": [],
   "source": [
    "largest_10_2018 = scores.nlargest(20, \"Score_2018\")"
   ]
  },
  {
   "cell_type": "code",
   "execution_count": 27,
   "id": "c194f858-57aa-4464-9fa5-d2700d06d2f5",
   "metadata": {},
   "outputs": [
    {
     "data": {
      "image/png": "[encoded data removed]",
      "text/plain": [
       "<Figure size 640x480 with 1 Axes>"
      ]
     },
     "metadata": {},
     "output_type": "display_data"
    }
   ],
   "source": [
    "plt.barh(largest_10_2018[\"Country or region\"],largest_10_2018[\"Score_2018\"])\n",
    "plt.gca().invert_yaxis()\n",
    "plt.xlim(0,8)\n",
    "plt.show() "
   ]
  },
  {
   "cell_type": "code",
   "execution_count": 28,
   "id": "01fec4ae-a91b-4c1c-908c-b5db924229d1",
   "metadata": {},
   "outputs": [],
   "source": [
    "smallest_20_2018 = scores.nsmallest(20, \"Score_2018\")"
   ]
  },
  {
   "cell_type": "code",
   "execution_count": 29,
   "id": "74b35774-a6d1-403e-9d4f-10c1d57ad5cc",
   "metadata": {},
   "outputs": [
    {
     "data": {
      "image/png": "[encoded data removed]",
      "text/plain": [
       "<Figure size 800x1000 with 1 Axes>"
      ]
     },
     "metadata": {},
     "output_type": "display_data"
    }
   ],
   "source": [
    "plt.figure(figsize=(8,10)) #size are in inches, test till we like it\n",
    "plt.barh(smallest_20_2018['Country or region'], smallest_20_2018['Score_2018'])\n",
    "plt.xlim(0,8) \n",
    "plt.show()"
   ]
  },
  {
   "cell_type": "code",
   "execution_count": 30,
   "id": "338f628f-4263-4f39-ac9a-8e47e5cc2906",
   "metadata": {},
   "outputs": [
    {
     "data": {
      "text/plain": [
       "([<matplotlib.patches.Wedge at 0x7460a90e5850>,\n",
       "  <matplotlib.patches.Wedge at 0x7460abdd9950>,\n",
       "  <matplotlib.patches.Wedge at 0x7460a9ac6110>],\n",
       " [Text(1.0980681048831955, 0.06516469165297775, ''),\n",
       "  Text(1.0692252045755923, 0.25837465413674576, ''),\n",
       "  Text(-1.0826536443356711, -0.194579254820986, '')])"
      ]
     },
     "execution_count": 30,
     "metadata": {},
     "output_type": "execute_result"
    },
    {
     "data": {
      "image/png": "[encoded data removed]",
      "text/plain": [
       "<Figure size 640x480 with 1 Axes>"
      ]
     },
     "metadata": {},
     "output_type": "display_data"
    }
   ],
   "source": [
    "plt.pie([1,2,50])"
   ]
  },
  {
   "cell_type": "code",
   "execution_count": 31,
   "id": "a28c35b7-2736-474a-afe3-3557051fadd9",
   "metadata": {},
   "outputs": [],
   "source": [
    "whr_2017 = pd.read_csv('data/world_happines/2017.csv')"
   ]
  },
  {
   "cell_type": "code",
   "execution_count": 32,
   "id": "6c9f8852-a4ac-48af-9b7d-06f6803e09c0",
   "metadata": {},
   "outputs": [],
   "source": [
    "whr_mergerd = whr_mergerd.merge(whr_2017.rename(columns = lambda col: col+\"_2017\"), left_on= \"Country or region\", right_on=\"Country_2017\" , suffixes=['', \"2017\"])"
   ]
  },
  {
   "cell_type": "code",
   "execution_count": 33,
   "id": "f72546bb-a85e-4306-9e57-8899b8bce594",
   "metadata": {},
   "outputs": [],
   "source": [
    "whr_mergerd = whr_mergerd.rename(columns={'Happiness.Score_2017':'Score_2017'})"
   ]
  },
  {
   "cell_type": "code",
   "execution_count": 34,
   "id": "5eb9e796-6746-418c-b66d-e4e126fdef9b",
   "metadata": {},
   "outputs": [
    {
     "data": {
      "text/plain": [
       "Index(['Overall rank_2018', 'Country or region', 'Score_2018',\n",
       "       'GDP per capita_2018', 'Social support_2018',\n",
       "       'Healthy life expectancy_2018', 'Freedom to make life choices_2018',\n",
       "       'Generosity_2018', 'Perceptions of corruption_2018',\n",
       "       'Overall rank_2019', 'Score_2019', 'GDP per capita_2019',\n",
       "       'Social support_2019', 'Healthy life expectancy_2019',\n",
       "       'Freedom to make life choices_2019', 'Generosity_2019',\n",
       "       'Perceptions of corruption_2019', 'Country_2017', 'Happiness.Rank_2017',\n",
       "       'Score_2017', 'Whisker.high_2017', 'Whisker.low_2017',\n",
       "       'Economy..GDP.per.Capita._2017', 'Family_2017',\n",
       "       'Health..Life.Expectancy._2017', 'Freedom_2017', 'Generosity_2017',\n",
       "       'Trust..Government.Corruption._2017', 'Dystopia.Residual_2017'],\n",
       "      dtype='object')"
      ]
     },
     "execution_count": 34,
     "metadata": {},
     "output_type": "execute_result"
    }
   ],
   "source": [
    "whr_mergerd.columns"
   ]
  },
  {
   "cell_type": "code",
   "execution_count": 35,
   "id": "08e4840c-25df-4c27-963d-46302b568fe7",
   "metadata": {},
   "outputs": [],
   "source": [
    "scores = whr_mergerd[[\"Country or region\", \"Score_2017\", \"Score_2018\", \"Score_2019\"]]"
   ]
  },
  {
   "cell_type": "code",
   "execution_count": 36,
   "id": "e56a8812-5d13-4e26-b814-4dea667d81ec",
   "metadata": {},
   "outputs": [
    {
     "data": {
      "text/html": [
       "<div>\n",
       "<style scoped>\n",
       "    .dataframe tbody tr th:only-of-type {\n",
       "        vertical-align: middle;\n",
       "    }\n",
       "\n",
       "    .dataframe tbody tr th {\n",
       "        vertical-align: top;\n",
       "    }\n",
       "\n",
       "    .dataframe thead th {\n",
       "        text-align: right;\n",
       "    }\n",
       "</style>\n",
       "<table border=\"1\" class=\"dataframe\">\n",
       "  <thead>\n",
       "    <tr style=\"text-align: right;\">\n",
       "      <th></th>\n",
       "      <th>Country or region</th>\n",
       "      <th>Score_2017</th>\n",
       "      <th>Score_2018</th>\n",
       "      <th>Score_2019</th>\n",
       "    </tr>\n",
       "  </thead>\n",
       "  <tbody>\n",
       "    <tr>\n",
       "      <th>93</th>\n",
       "      <td>Bulgaria</td>\n",
       "      <td>4.714</td>\n",
       "      <td>4.933</td>\n",
       "      <td>5.011</td>\n",
       "    </tr>\n",
       "  </tbody>\n",
       "</table>\n",
       "</div>"
      ],
      "text/plain": [
       "   Country or region  Score_2017  Score_2018  Score_2019\n",
       "93          Bulgaria       4.714       4.933       5.011"
      ]
     },
     "execution_count": 36,
     "metadata": {},
     "output_type": "execute_result"
    }
   ],
   "source": [
    "# check if there is Bulgaria \n",
    "scores[scores[\"Country or region\"] == \"Bulgaria\"]"
   ]
  },
  {
   "cell_type": "code",
   "execution_count": 37,
   "id": "ae50abd4-b380-49c8-ae85-6e0e2aec324c",
   "metadata": {},
   "outputs": [],
   "source": [
    "bg_scores = scores[scores[\"Country or region\"] == \"Bulgaria\"].T.drop(\"Country or region\").values.ravel()\n",
    "ro_scores = scores[scores[\"Country or region\"] == \"Romania\"].T.drop(\"Country or region\").values.ravel()"
   ]
  },
  {
   "cell_type": "code",
   "execution_count": 38,
   "id": "2b3cf5d7-339e-4e78-818d-b46a862a9044",
   "metadata": {},
   "outputs": [],
   "source": [
    "years = list(range(2017,2020))"
   ]
  },
  {
   "cell_type": "code",
   "execution_count": 41,
   "id": "5d635fee-c8fd-47c6-bba9-28e25d91878c",
   "metadata": {},
   "outputs": [
    {
     "data": {
      "image/png": "[encoded data removed]",
      "text/plain": [
       "<Figure size 640x480 with 1 Axes>"
      ]
     },
     "metadata": {},
     "output_type": "display_data"
    }
   ],
   "source": [
    "plt.plot(years, ro_scores, linewidth=2, linestyle=\"dashed\", label=\"Romania\")\n",
    "plt.scatter(years, ro_scores, marker=\"s\", s=50)\n",
    "\n",
    "plt.plot(years, bg_scores, linewidth=2, linestyle=\"dashed\", label=\"Bulgaria\")\n",
    "plt.scatter(years, bg_scores, marker='s', s=50)\n",
    "\n",
    "plt.ylim(0,6.5) \n",
    "\n",
    "plt.xlabel(\"Year\")\n",
    "plt.ylabel(\"Happiness Score\")\n",
    "\n",
    "plt.legend(loc=\"lower right\")\n",
    "plt.xticks(years)\n",
    "plt.show()\n",
    "\n",
    "#plt.savefig(\"figure.jpg\")"
   ]
  },
  {
   "cell_type": "code",
   "execution_count": null,
   "id": "6af62a87-8aaf-4533-9835-c5db0b683d06",
   "metadata": {},
   "outputs": [],
   "source": []
  }
 ],
 "metadata": {
  "kernelspec": {
   "display_name": "Python 3 (ipykernel)",
   "language": "python",
   "name": "python3"
  },
  "language_info": {
   "codemirror_mode": {
    "name": "ipython",
    "version": 3
   },
   "file_extension": ".py",
   "mimetype": "text/x-python",
   "name": "python",
   "nbconvert_exporter": "python",
   "pygments_lexer": "ipython3",
   "version": "3.12.4"
  }
 },
 "nbformat": 4,
 "nbformat_minor": 5
}
