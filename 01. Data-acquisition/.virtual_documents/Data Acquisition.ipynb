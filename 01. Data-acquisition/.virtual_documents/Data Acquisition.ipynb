%matplotlib inline


import pandas as pd
import numpy as np
import matplotlib.pyplot as plt

import sqlalchemy





pd.Series([4,5.5,6], dtype="float32") # init type


pd.Series([4,5.5,6]).astype(np.float32) # convert type


pd.Series([4, 5.5, 6]).sum()


accidents_data = pd.read_csv("data/accidents.csv")


type(accidents_data)


accidents_data


accidents_data.columns


accidents_data["% of Accidents"]


type(accidents_data['% of Accidents'])


accidents_data.index


plt.barh(accidents_data['Miles from Home'], accidents_data['% of Accidents'])
plt.xlabel('% of Accidents')





auto_mp_data = pd.read_fwf("data/auto_data/auto-mpg.data", header = None)
auto_mp_data.columns = ['mpg', 'cylinders', 'displacement', 'horsepower', 'weight', 'acceleration', 'model year', 'origin', 'car name']


auto_mp_data


plt.hist(auto_mp_data.mpg, bins=30)


auto_mp_data.shape


auto_mp_data.dtypes


auto_mp_data.horsepower.unique()


auto_mp_data.horsepower.astype(float)


auto_mp_data[auto_mp_data['horsepower']== '?']


auto_mp_data.cylinders.min(), auto_mp_data.cylinders.max()


auto_mp_data.describe().T





green_trip_data = pd.read_excel('data/green_tripdata_2015-09.xls')


green_trip_data


green_trip_data.describe().T


green_trip_data.shape


green_trip_data.dtypes


gren_trip_data_filtered=green_trip_data[(green_trip_data.Pickup_latitude!=0) & (green_trip_data.Pickup_longitude!=0)]


plt.scatter(gren_trip_data_filtered.Pickup_latitude, gren_trip_data_filtered.Pickup_longitude)


plt.hist(green_trip_data.Total_amount, bins =50)


green_trip_data[green_trip_data.Total_amount < 0]





books_data = pd.read_json('https://openlibrary.org/api/books?bibkeys=ISBN:9780345354907,ISBN:0881847690,LCCN:2005041555,ISBN:0060957905&format=json',orient="index")


books_data





# conda install SQLAlchemy






