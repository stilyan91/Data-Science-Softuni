











import pandas as pd


data = pd.read_csv(r"C:\Users\ROHIT GREWAL\Desktop\Data Science Lovers\Zicops\Videos\Python Projects\Project 1 - Weather Dataset.csv")


data








data.head()





data.shape





data.index





data.columns





data.dtypes





data['Weather'].unique()





data.nunique()





data.count()





data['Weather'].value_counts()





data.info()








data.head(2)


data.nunique()


data['Wind Speed_km/h'].nunique()


data['Wind Speed_km/h'].unique() # Answer





data.head(2)


# value_counts()
data.Weather.value_counts()


# Filtering
#data.head(2)
data[data.Weather == 'Clear']


# groupby()
#data.head(2)
data.groupby('Weather').get_group('Clear')





data.head(2)


data[data['Wind Speed_km/h'] == 4] # Answer





data.isnull().sum()


data.notnull().sum()





data.head(2)


data.rename(columns = {'Weather' : 'Weather Condition'}, inplace = True)


data.head()





data.head(2)


data.Visibility_km.mean()





data.Press_kPa.std()





data['Rel Hum_%'].var()





# value_counts()
#data.head(2)
data['Weather Condition'].value_counts()


#Filtering
data[data['Weather Condition'] == 'Snow']


# str.contains
data[data['Weather Condition'].str.contains('Snow')].tail(50)





data.head(2)


data[(data['Wind Speed_km/h'] > 24) & (data['Visibility_km'] == 25)]





data.head(2)


data.groupby('Weather Condition').mean()








data.head(2)


data.groupby('Weather Condition').min()


data.groupby('Weather Condition').max()





data[data['Weather Condition'] == 'Fog']





data[(data['Weather Condition'] == 'Clear') | (data['Visibility_km'] > 40)].tail(50)





data.head(2)


data[(data['Weather Condition'] == 'Clear') & (data['Rel Hum_%'] > 50)|(data['Visibility_km'] > 40)]


















