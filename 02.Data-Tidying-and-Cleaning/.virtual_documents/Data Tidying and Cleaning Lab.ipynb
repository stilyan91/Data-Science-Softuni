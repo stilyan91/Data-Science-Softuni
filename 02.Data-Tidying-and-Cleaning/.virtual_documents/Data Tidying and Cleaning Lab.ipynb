import pandas as pd
import nose.tools
# Write your imports here








mpg_data = pd.read_csv("data/auto_mpg/auto-mpg.data")


nose.tools.assert_is_not_none(mpg_data)





# YOUR CODE HERE
raise NotImplementedError()





def observations_and_features(dataset):
    """
    Returns the number of observations and features in the provided dataset
    """
    observations = None
    features = None
    # YOUR CODE HERE
    raise NotImplementedError()
    return "{} observations on {} features".format(observations, features)


print(observations_and_features(mpg_data))





# YOUR CODE HERE
raise NotImplementedError()





# YOUR CODE HERE
raise NotImplementedError()


nose.tools.assert_equal(mpg_data.horsepower.dtype, "float64")





def get_unknown_hp(dataframe):
    """
    Returns the rows in the provided dataframe where the "horsepower" column is NaN
    """
    unknown_hp = None
    # YOUR CODE HERE
    raise NotImplementedError()
    return unknown_hp


cars_with_unknown_hp = get_unknown_hp(mpg_data)
print(cars_with_unknown_hp)





# YOUR CODE HERE
raise NotImplementedError()


nose.tools.assert_equal(len(get_unknown_hp(mpg_data)), 0)





def get_unique_model_years(dataframe):
    """
    Returns the unique values of the "model_year" column
    of the dataframe
    """
    model_years = None
    # YOUR CODE HERE
    raise NotImplementedError()
    return model_years


model_years = get_unique_model_years(mpg_data)
print(model_years)





# YOUR CODE HERE
raise NotImplementedError()


model_years = get_unique_model_years(mpg_data)
print(model_years)





def get_model_names_smallest_cylinders(dataframe):
    """
    Returns the names of the cars with the smallest number of cylinders
    """
    car_names = None
    # YOUR CODE HERE
    raise NotImplementedError()
    return car_names


car_names = get_model_names_smallest_cylinders(mpg_data)
print(car_names)
nose.tools.assert_true(car_names.shape == (4,) or car_names.shape == (4, 1))





def calculate_correlation(dataframe, first_column, second_column):
    """
    Calculates and returns the correlation coefficient between the two columns in the dataframe.
    """
    correlation = None
    # YOUR CODE HERE
    raise NotImplementedError()
    return correlation


hp_weight = calculate_correlation(mpg_data, "horsepower", "weight")
print("Horsepower:Weight correlation coefficient:", hp_weight)
nose.tools.assert_almost_equal(hp_weight, 0.864537737574, delta = 0.01)

